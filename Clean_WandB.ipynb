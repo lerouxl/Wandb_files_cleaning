{
  "nbformat": 4,
  "nbformat_minor": 0,
  "metadata": {
    "colab": {
      "name": "Clean WandB.ipynb",
      "provenance": [],
      "collapsed_sections": [],
      "authorship_tag": "ABX9TyPM/vUqjwKdRfRye+K4Penc",
      "include_colab_link": true
    },
    "kernelspec": {
      "name": "python3",
      "display_name": "Python 3"
    },
    "language_info": {
      "name": "python"
    }
  },
  "cells": [
    {
      "cell_type": "markdown",
      "metadata": {
        "id": "view-in-github",
        "colab_type": "text"
      },
      "source": [
        "<a href=\"https://colab.research.google.com/github/lerouxl/Wandb_files_cleaning/blob/main/Clean_WandB.ipynb\" target=\"_parent\"><img src=\"https://colab.research.google.com/assets/colab-badge.svg\" alt=\"Open In Colab\"/></a>"
      ]
    },
    {
      "cell_type": "markdown",
      "source": [
        "# Clean WandB\n",
        "\n",
        "This code will remove unused artifact from WandB, feering some place."
      ],
      "metadata": {
        "id": "R10zaOASaLZB"
      }
    },
    {
      "cell_type": "code",
      "source": [
        "!pip install wandb"
      ],
      "metadata": {
        "id": "GKnu2_Sgau-U"
      },
      "execution_count": null,
      "outputs": []
    },
    {
      "cell_type": "code",
      "execution_count": 6,
      "metadata": {
        "id": "5ISKDLaFaIZ-"
      },
      "outputs": [],
      "source": [
        "import wandb\n",
        "from tqdm.notebook import tqdm\n",
        "import time"
      ]
    },
    {
      "cell_type": "markdown",
      "source": [
        "To customise:"
      ],
      "metadata": {
        "id": "dg3GVW2W009O"
      }
    },
    {
      "cell_type": "code",
      "source": [
        "# Neural network files that do not have the epoch number (to skip)\n",
        "# UPDATE HERE to match your files name convension\n",
        "SKIP_FILES = [\"latest\", \"best\"]\n",
        "\n",
        "# Extract epoch number.\n",
        "# UPDATE HERE to match your files name convension\n",
        "# My naming convesion is X_net.pth, so I only grab what is before the _\n",
        "def extrat_epoch_number(name:str) -> str :\n",
        "  \"Extract the part of name containing the number of the epoch. MUST return an str\"\n",
        "  return name.split(\"_\")[0]\n",
        "\n",
        "# UPDATE HERE to add your project name\n",
        "# You can see all your project name by runing the next cell\n",
        "PROJECT_NAME = \"project_name\"\n",
        "\n",
        "# UDPATE HERE to specify the extension of your model files\n",
        "FILE_EXTENSION = \".pth\""
      ],
      "metadata": {
        "id": "aYEo7pWk0z7u"
      },
      "execution_count": 11,
      "outputs": []
    },
    {
      "cell_type": "markdown",
      "source": [
        "Create the function that will remove files"
      ],
      "metadata": {
        "id": "p_GJjgk3ewEk"
      }
    },
    {
      "cell_type": "code",
      "source": [
        "def clean_model_weight_files(file: wandb.apis.public.File, every_x_epochs: int = 5, dry_run : bool = True, verbos : bool = True) -> None:\n",
        "  \"\"\"\n",
        "  Remove saved model weights from the Wandb storage API.\n",
        "  Will ignore file starting with \"best\" or \"lattest\".\n",
        "  Args:\n",
        "    - file: an wandb API file. This file will be removed if it was not created in the n * every_x_epochs (with n an int). \n",
        "            File name have to have the epoch number\n",
        "    - every_x_epochs : int. Every x epochs, the model weights will be keep. Other weight will be removed.\n",
        "    - dry_run: bool. If True, only print witch filles will be removed.\n",
        "    - verbos: bool. If True print a message at every files removed.\n",
        "  \"\"\"\n",
        "  file_name = file.name\n",
        "\n",
        "  # Extract epoch number.\n",
        "  # My naming convesion is X_net.pth, so I only grab what is before the _\n",
        "  epoch_number = extrat_epoch_number(file_name)\n",
        "  \n",
        "  # Check if we are on the \"best\" or \"latest\" epochs \n",
        "  if epoch_number in SKIP_FILES:\n",
        "    # If so, we quit\n",
        "    return \n",
        "\n",
        "  epoch_number = int(epoch_number)\n",
        "  to_del = bool(epoch_number % every_x_epochs)\n",
        "\n",
        "  if to_del:\n",
        "    message = f\"Removing {file_name} from wandb\"\n",
        "\n",
        "    if dry_run:\n",
        "      message = \"DRY RUN \" + message\n",
        "    else:\n",
        "      file.delete()\n",
        "    \n",
        "    if verbos:\n",
        "      print(message)"
      ],
      "metadata": {
        "id": "P5jUOeLtewXz"
      },
      "execution_count": 3,
      "outputs": []
    },
    {
      "cell_type": "markdown",
      "source": [
        "Select the project then, for each runs, remove all saved model execept one every 5 epochs."
      ],
      "metadata": {
        "id": "33Br-rcLcxI7"
      }
    },
    {
      "cell_type": "code",
      "source": [
        "# When using artifact api methods that don't have an entity or project\n",
        "#  argument, you must provide that information when instantiating the wandb.Api\n",
        "\n",
        "# You can see all your project name by runing the next cell\n",
        "api = wandb.Api(overrides={\"project\": PROJECT_NAME})\n",
        "\n",
        "for run in tqdm(api.runs(), desc= \"Run progression\"):\n",
        "  for file in tqdm(run.files(),leave=False, desc = f\"Files progression for {run.name}\"):\n",
        "    if file.name.endswith(FILE_EXTENSION):\n",
        "      clean_model_weight_files(file = file,every_x_epochs= 5, dry_run = True, verbos = True)\n",
        "    time.sleep(0.2) # Let's not be ban by Wandb API ^^"
      ],
      "metadata": {
        "id": "5OMyLL4PeBvE"
      },
      "execution_count": null,
      "outputs": []
    },
    {
      "cell_type": "markdown",
      "source": [
        "List all runs available"
      ],
      "metadata": {
        "id": "uFuTkdQ5cuqX"
      }
    },
    {
      "cell_type": "code",
      "source": [
        "for i in api.runs():\n",
        "  print(i.name)"
      ],
      "metadata": {
        "id": "FNe958FIcGgN"
      },
      "execution_count": null,
      "outputs": []
    },
    {
      "cell_type": "markdown",
      "source": [
        "List all files"
      ],
      "metadata": {
        "id": "qEfuJokXenRF"
      }
    },
    {
      "cell_type": "code",
      "source": [
        "for i in api.runs()[0].files():\n",
        "  print(i.name)"
      ],
      "metadata": {
        "id": "ZIRlQyMMelg_"
      },
      "execution_count": null,
      "outputs": []
    }
  ]
}